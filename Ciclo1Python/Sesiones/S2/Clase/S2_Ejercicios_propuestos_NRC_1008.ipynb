{
  "nbformat": 4,
  "nbformat_minor": 0,
  "metadata": {
    "colab": {
      "name": "S2-Ejercicios propuestos NRC 1008.ipynb",
      "provenance": [],
      "collapsed_sections": []
    },
    "kernelspec": {
      "name": "python3",
      "display_name": "Python 3"
    },
    "language_info": {
      "name": "python"
    }
  },
  "cells": [
    {
      "cell_type": "code",
      "metadata": {
        "id": "HX7kU-l4eu0J"
      },
      "source": [
        ""
      ],
      "execution_count": null,
      "outputs": []
    },
    {
      "cell_type": "markdown",
      "metadata": {
        "id": "3yaUucnufyke"
      },
      "source": [
        "Realize un algoritmo que calcule las cuatro (4) operaciones matematicas basicas."
      ]
    },
    {
      "cell_type": "code",
      "metadata": {
        "colab": {
          "base_uri": "https://localhost:8080/"
        },
        "id": "mWiiTUZKgEjr",
        "outputId": "a51f9097-4267-4c08-b5b5-6e996469f748"
      },
      "source": [
        "a = int(input(\"valor uno: \"))\n",
        "b = int(input(\"Valor dos: \"))\n",
        "\n",
        "suma = a + b\n",
        "resta = a - b\n",
        "multi = a * b\n",
        "div = a / b\n",
        "\n",
        "print(\"suma: \",suma)\n",
        "print(\"resta: \",resta)\n",
        "print(\"multiplicacion: \",multi)\n",
        "print(\"division: \",div)"
      ],
      "execution_count": 3,
      "outputs": [
        {
          "output_type": "stream",
          "text": [
            "valor uno: 7\n",
            "Valor dos: 5\n",
            "suma:  12\n",
            "resta:  2\n",
            "multiplicacion:  35\n",
            "divicion:  1\n"
          ],
          "name": "stdout"
        }
      ]
    },
    {
      "cell_type": "markdown",
      "metadata": {
        "id": "YOyiv4HQk4k0"
      },
      "source": [
        "Escriba un programa que convierta un valor dado en grados farenheit(F) a grados celcius(C). Recordar que la formula para laconvercion es C=(F-32)*5/9"
      ]
    },
    {
      "cell_type": "code",
      "metadata": {
        "colab": {
          "base_uri": "https://localhost:8080/"
        },
        "id": "UjzqZQPPllxN",
        "outputId": "a86c2fb5-ee77-4f2b-e8be-6b25fd7543a7"
      },
      "source": [
        "import math\n",
        "f = int(input(\"Temperatura (F): \"))\n",
        "c = (f-32)*(5/9)\n",
        "print(\"Temperatura(C): \",round(c,2))"
      ],
      "execution_count": 13,
      "outputs": [
        {
          "output_type": "stream",
          "text": [
            "Temperatura (F): 90\n",
            "Temperatura(C):  32.22\n"
          ],
          "name": "stdout"
        }
      ]
    },
    {
      "cell_type": "markdown",
      "metadata": {
        "id": "s7Q3tOJZqlm2"
      },
      "source": [
        "Dados los catetos de un triangulo rectangulo, calcular su hipotenusa."
      ]
    },
    {
      "cell_type": "code",
      "metadata": {
        "colab": {
          "base_uri": "https://localhost:8080/"
        },
        "id": "LlMF62SgqurN",
        "outputId": "865be558-a019-4d0d-e714-e0a2e277c100"
      },
      "source": [
        "import math\n",
        "a = int(input(\"cateto a: \"))\n",
        "b = int(input(\"cateto b: \"))\n",
        "hip = math.sqrt((a**2)+(b**2))\n",
        "print(\"La hipotenusa del triangulo es: \",round(hip,2))"
      ],
      "execution_count": 17,
      "outputs": [
        {
          "output_type": "stream",
          "text": [
            "cateto a: 45\n",
            "cateto b: 34\n",
            "La hipotenusa del triangulo es:  56.4\n"
          ],
          "name": "stdout"
        }
      ]
    },
    {
      "cell_type": "code",
      "metadata": {
        "colab": {
          "base_uri": "https://localhost:8080/"
        },
        "id": "7lIqXuW_tyWA",
        "outputId": "9823f62e-48bf-4f44-9b39-a5f40c7ae98d"
      },
      "source": [
        "a = int(input(\"radicando: \"))\n",
        "resultado = a ** (1/4)\n",
        "print(resultado)"
      ],
      "execution_count": 18,
      "outputs": [
        {
          "output_type": "stream",
          "text": [
            "radicando: 81\n",
            "3.0\n"
          ],
          "name": "stdout"
        }
      ]
    },
    {
      "cell_type": "markdown",
      "metadata": {
        "id": "Q45ouBqBumB_"
      },
      "source": [
        "Un alumno desea saber cual sera su claificacion final en la materia de algoritmos. dicha calificacion se compone de los siguientes porcentajes.\n",
        "\n",
        "55% del promedio de sus tres calificaciones parciales\n",
        "\n",
        "30% de la calificacion\n",
        "\n",
        "15% de la calificacion de un trabajo final"
      ]
    },
    {
      "cell_type": "code",
      "metadata": {
        "colab": {
          "base_uri": "https://localhost:8080/"
        },
        "id": "8s3epGetvRft",
        "outputId": "b04e4ae6-408e-48da-def4-8a53944a1b15"
      },
      "source": [
        "nota1 = float(input(\"nota 1: \"))\n",
        "nota2 = float(input(\"nota 2: \"))\n",
        "nota3 = float(input(\"nota 3: \"))\n",
        "ef = float(input(\"examen final: \"))\n",
        "tf = float(input(\"tabajo final: \"))\n",
        "cp = ((nota1+nota2+nota3)/3)*0.55\n",
        "cef = ef * 0.3\n",
        "ctf = tf * 0.15\n",
        "final = cp + cef + ctf\n",
        "print(\"La nota final de algoritmos es: \",round(final,2))"
      ],
      "execution_count": 20,
      "outputs": [
        {
          "output_type": "stream",
          "text": [
            "nota 1: 3.1\n",
            "nota 2: 3.5\n",
            "nota 3: 3.9\n",
            "examen final: 4.5\n",
            "tabajo final: 2.9\n",
            "La nota final de algoritmos es:  3.71\n"
          ],
          "name": "stdout"
        }
      ]
    }
  ]
}