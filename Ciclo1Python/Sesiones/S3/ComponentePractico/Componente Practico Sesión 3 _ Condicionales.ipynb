{
 "cells": [
  {
   "cell_type": "markdown",
   "metadata": {},
   "source": [
    "# Fundamentos de Programación con Python\n",
    "\n",
    "## Condicionales\n",
    "\n",
    "### Si-Sino-Finsi\n",
    "Recuerda que los condicionales nos permiten decidir qué instrucciones ejecutar y cuales no. El condicional Si-Sino-Finsi tiene la siguiente estructura:\n",
    "\n",
    "    Si (condición) Entonces\n",
    "        instrucción(es)\n",
    "    Sino\n",
    "        instrucción(es)\n",
    "    Fin Si\n",
    "\n",
    "En Python, esto se escribe un poco diferente y la estructura general depende de las tabulaciónes. Por ejemplo:"
   ]
  },
  {
   "cell_type": "code",
   "execution_count": null,
   "metadata": {},
   "outputs": [],
   "source": [
    "x = int(input(\"Por favor ingresa un número: \"))\n",
    "if x<0:\n",
    "    print('X es Negativo')\n",
    "else:\n",
    "    print('X es Positivo')\n",
    "\n",
    "print('Esto ya está por fuera del condicional') #Esta fuera porque ya no hay tabulación"
   ]
  },
  {
   "cell_type": "markdown",
   "metadata": {},
   "source": [
    "¿Qué pasa si X es 0? ¿Imprimirá positivo o negativo? ¿Cómo podríamos arreglar este programa para que si X es cero, imprima \"X es cero\"?\n",
    "\n"
   ]
  },
  {
   "cell_type": "code",
   "execution_count": null,
   "metadata": {},
   "outputs": [],
   "source": []
  },
  {
   "cell_type": "markdown",
   "metadata": {},
   "source": [
    "### Operadores lógicos en Python\n",
    "\n",
    "Antes de pasar a usar condicionales, debemos entender como manejar los operadores lógicos (y/o) en Python para poder evaluar múltiples expresiones al tiempo.\n",
    "\n",
    "En Python, los operadores lógicos son las palabras en inglés: and y or. Estos operadores nos permiten analizar múltiples expresiones. \n",
    "\n",
    "<table>\n",
    "<thead><tr>\n",
    "<th>P    </th>\n",
    "<th>Q    </th>\n",
    "<th>P And Q</th>\n",
    "<th>P Or Q</th>\n",
    "</tr>\n",
    "</thead>\n",
    "<tbody>\n",
    "<tr>\n",
    "<td>V</td>\n",
    "<td>V</td>\n",
    "<td>V</td>\n",
    "<td>V</td>\n",
    "</tr>\n",
    "<tr>\n",
    "<td>V</td>\n",
    "<td>F</td>\n",
    "<td>F</td>\n",
    "<td>V</td>\n",
    "</tr>\n",
    "<tr>\n",
    "<td>F</td>\n",
    "<td>V</td>\n",
    "<td>F</td>\n",
    "<td>V</td>\n",
    "</tr>\n",
    "<tr>\n",
    "<td>F</td>\n",
    "<td>F</td>\n",
    "<td>F</td>\n",
    "<td>F</td>\n",
    "</tr>\n",
    "</tbody></table>\n",
    "\n",
    "Aquí está el código Python que evalúa las expresiones"
   ]
  },
  {
   "cell_type": "code",
   "execution_count": null,
   "metadata": {},
   "outputs": [],
   "source": [
    "print((True and True),(True or True))\n",
    "print((True and False),(True or False))\n",
    "print((False and True), (False or True))\n",
    "print((False and False),(False or False))\n"
   ]
  },
  {
   "cell_type": "markdown",
   "metadata": {},
   "source": [
    "### Actividad 1\n",
    "\n",
    "Primero, vamos a pasar los siguientes pseudo-códigos con condicionales a Python\n",
    "\n",
    "Inicio\n",
    "    \n",
    "    a = leer()\n",
    "    b = leer()\n",
    "       \n",
    "    Si a>2 Entonces\n",
    "        imprimir a\n",
    "    Fin Si\n",
    "    \n",
    "    Si b < 4 Entonces\n",
    "        imprimir a\n",
    "    Fin Si\n",
    "Fin"
   ]
  },
  {
   "cell_type": "code",
   "execution_count": null,
   "metadata": {},
   "outputs": [],
   "source": []
  },
  {
   "cell_type": "markdown",
   "metadata": {},
   "source": [
    "Dado que ambos condicionales imprimen a. Podríamos modificar el código para tener un sólo condicional usando los operadores lógicos?"
   ]
  },
  {
   "cell_type": "code",
   "execution_count": null,
   "metadata": {},
   "outputs": [],
   "source": []
  },
  {
   "cell_type": "markdown",
   "metadata": {},
   "source": [
    "### Actividad 2\n",
    "\n",
    "Los operadores lógicos pueden evaluar números y otros tipos de datos.\n",
    "\n",
    "Para ingresar al programa de medicina, el estudiante debe tener diploma de bachiller y ser mayor de 17 años. Creemos el código para validar esta información dadas las variables tieneDiploma (Y/N) y edad (entero)."
   ]
  },
  {
   "cell_type": "code",
   "execution_count": null,
   "metadata": {},
   "outputs": [],
   "source": []
  },
  {
   "cell_type": "markdown",
   "metadata": {},
   "source": [
    "### Actividad 3\n",
    "\n",
    "Escribe el código para leer un número entero e imprime SI si el último dígito es 4."
   ]
  },
  {
   "cell_type": "code",
   "execution_count": null,
   "metadata": {},
   "outputs": [],
   "source": []
  }
 ],
 "metadata": {
  "kernelspec": {
   "display_name": "Python 3",
   "language": "python",
   "name": "python3"
  },
  "language_info": {
   "codemirror_mode": {
    "name": "ipython",
    "version": 3
   },
   "file_extension": ".py",
   "mimetype": "text/x-python",
   "name": "python",
   "nbconvert_exporter": "python",
   "pygments_lexer": "ipython3",
   "version": "3.8.3"
  }
 },
 "nbformat": 4,
 "nbformat_minor": 4
}
